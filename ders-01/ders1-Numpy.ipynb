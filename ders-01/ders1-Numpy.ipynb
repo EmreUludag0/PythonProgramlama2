{
 "cells": [
  {
   "cell_type": "code",
   "execution_count": 70,
   "metadata": {},
   "outputs": [],
   "source": [
    "import numpy as np"
   ]
  },
  {
   "cell_type": "markdown",
   "metadata": {},
   "source": [
    "##verilere erişme"
   ]
  },
  {
   "cell_type": "code",
   "execution_count": 71,
   "metadata": {},
   "outputs": [
    {
     "data": {
      "text/plain": [
       "array([10, 11, 12, 13, 14, 15, 16, 17, 18, 19])"
      ]
     },
     "execution_count": 71,
     "metadata": {},
     "output_type": "execute_result"
    }
   ],
   "source": [
    "dizi = np.arange(10,20)\n",
    "dizi"
   ]
  },
  {
   "cell_type": "code",
   "execution_count": 72,
   "metadata": {},
   "outputs": [
    {
     "data": {
      "text/plain": [
       "array([15, 16, 17, 18, 19])"
      ]
     },
     "execution_count": 72,
     "metadata": {},
     "output_type": "execute_result"
    }
   ],
   "source": [
    "dizi[5:10]"
   ]
  },
  {
   "cell_type": "code",
   "execution_count": 73,
   "metadata": {},
   "outputs": [
    {
     "data": {
      "text/plain": [
       "array([45, 40, 35, 29, 27, 25, 17, 14, 12, 11])"
      ]
     },
     "execution_count": 73,
     "metadata": {},
     "output_type": "execute_result"
    }
   ],
   "source": [
    "#dizi[::-1] #dizi elemanlarını tersten sıralar.\n",
    "dizi2 = np.random.randint(10,50,10)\n",
    "dizi2.sort() #diziyi artar sıralar\n",
    "#dizi2\n",
    "dizi2[::-1] #diziyi tersten sıralar"
   ]
  },
  {
   "cell_type": "markdown",
   "metadata": {},
   "source": [
    "##iki dizi birleştirme işlemleri"
   ]
  },
  {
   "cell_type": "code",
   "execution_count": 74,
   "metadata": {},
   "outputs": [
    {
     "data": {
      "text/plain": [
       "array([[37, 43, 43, 47],\n",
       "       [39, 40, 42, 47],\n",
       "       [31, 37, 41, 46],\n",
       "       [34, 38, 41, 45]])"
      ]
     },
     "execution_count": 74,
     "metadata": {},
     "output_type": "execute_result"
    }
   ],
   "source": [
    "dizi1 = np.random.randint(-20,20,(4,4))\n",
    "dizi2 = np.random.randint(30,50,(4,4))\n",
    "dizi2.sort()\n",
    "dizi2\n"
   ]
  },
  {
   "cell_type": "code",
   "execution_count": 75,
   "metadata": {},
   "outputs": [
    {
     "data": {
      "text/plain": [
       "array([[37, 43, 43, 47],\n",
       "       [39, 40, 42, 47],\n",
       "       [31, 37, 41, 46],\n",
       "       [34, 38, 41, 45]])"
      ]
     },
     "execution_count": 75,
     "metadata": {},
     "output_type": "execute_result"
    }
   ],
   "source": [
    "np.concatenate([dizi1,dizi2]) #dizi değerlerini birleştirmek için kullanılır.\n",
    "dizi2.sort()\n",
    "dizi2"
   ]
  },
  {
   "cell_type": "code",
   "execution_count": 84,
   "metadata": {},
   "outputs": [
    {
     "name": "stdout",
     "output_type": "stream",
     "text": [
      "[['2' '2']\n",
      " ['3' '3']]\n",
      "[[4 4]\n",
      " [5 5]]\n"
     ]
    },
    {
     "data": {
      "text/plain": [
       "array([['2', '2'],\n",
       "       ['3', '3'],\n",
       "       ['4', '4'],\n",
       "       ['5', '5']], dtype='<U11')"
      ]
     },
     "execution_count": 84,
     "metadata": {},
     "output_type": "execute_result"
    }
   ],
   "source": [
    "bosListe = []\n",
    "sayiListe = []\n",
    "for i in range(4):\n",
    "    eleman = input(\"kişi gir: \")\n",
    "    bosListe.append(eleman)\n",
    "\n",
    "for i in range(4):\n",
    "    eleman = int(input(\"sayi gir: \"))\n",
    "    sayiListe.append(eleman)\n",
    "    \n",
    "\n",
    "deger = np.array(bosListe)\n",
    "sayi = np.array(sayiListe)\n",
    "sayi2 = sayi.reshape((2,2))\n",
    "deger2 = deger.reshape((2,2))\n",
    "print(deger2)\n",
    "print(sayi2)\n",
    "np.concatenate((deger2,sayi2))\n",
    "    \n",
    "    \n",
    "    \n",
    "    \n",
    "    \n",
    "    \n",
    "    \n",
    "    "
   ]
  },
  {
   "cell_type": "code",
   "execution_count": null,
   "metadata": {},
   "outputs": [],
   "source": []
  }
 ],
 "metadata": {
  "interpreter": {
   "hash": "ff46fe9d0f12cf77d984bd81bc068bbea5bf56aae7dfb72a8e6262aec9d0c3b1"
  },
  "kernelspec": {
   "display_name": "Python 3.10.6 64-bit",
   "language": "python",
   "name": "python3"
  },
  "language_info": {
   "codemirror_mode": {
    "name": "ipython",
    "version": 3
   },
   "file_extension": ".py",
   "mimetype": "text/x-python",
   "name": "python",
   "nbconvert_exporter": "python",
   "pygments_lexer": "ipython3",
   "version": "3.10.6"
  },
  "orig_nbformat": 4
 },
 "nbformat": 4,
 "nbformat_minor": 2
}
