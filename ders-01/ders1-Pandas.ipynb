{
 "cells": [
  {
   "cell_type": "code",
   "execution_count": 6,
   "metadata": {},
   "outputs": [
    {
     "data": {
      "text/plain": [
       "0    17\n",
       "1    15\n",
       "2    12\n",
       "3    13\n",
       "4    18\n",
       "dtype: int32"
      ]
     },
     "execution_count": 6,
     "metadata": {},
     "output_type": "execute_result"
    }
   ],
   "source": [
    "import pandas as pd\n",
    "import numpy as np\n",
    "\n",
    "\n",
    "dizi = np.random.randint(10,20,5)\n",
    "pd.Series(dizi)"
   ]
  },
  {
   "cell_type": "code",
   "execution_count": 7,
   "metadata": {},
   "outputs": [
    {
     "data": {
      "text/plain": [
       "0     sarı\n",
       "1    beyaz\n",
       "2     mavi\n",
       "3    siyah\n",
       "dtype: object"
      ]
     },
     "execution_count": 7,
     "metadata": {},
     "output_type": "execute_result"
    }
   ],
   "source": [
    "strDizi = [\"sarı\",\"beyaz\",\"mavi\",\"siyah\"]\n",
    "pd.Series(strDizi)"
   ]
  },
  {
   "cell_type": "code",
   "execution_count": 8,
   "metadata": {},
   "outputs": [
    {
     "data": {
      "text/plain": [
       "0   -1.582557\n",
       "1   -0.135469\n",
       "2   -0.326693\n",
       "3    1.270163\n",
       "4    0.295320\n",
       "dtype: float64"
      ]
     },
     "execution_count": 8,
     "metadata": {},
     "output_type": "execute_result"
    }
   ],
   "source": [
    "ondalikDizi = np.random.randn(5)\n",
    "pd.Series(ondalikDizi)"
   ]
  },
  {
   "cell_type": "code",
   "execution_count": 18,
   "metadata": {},
   "outputs": [
    {
     "data": {
      "text/plain": [
       "0     6.170121\n",
       "1     7.590403\n",
       "2     7.012041\n",
       "3     6.390988\n",
       "4     5.209051\n",
       "5     5.581599\n",
       "6     8.683372\n",
       "7     6.195906\n",
       "8     5.304797\n",
       "9     8.685121\n",
       "10    6.448102\n",
       "11    9.735111\n",
       "dtype: float64"
      ]
     },
     "execution_count": 18,
     "metadata": {},
     "output_type": "execute_result"
    }
   ],
   "source": [
    "uni = np.random.uniform(5,10,12) #5-10 arası 5 adat rastgele float değer üretir.\n",
    "pd.Series(uni)"
   ]
  },
  {
   "cell_type": "code",
   "execution_count": 19,
   "metadata": {},
   "outputs": [
    {
     "name": "stdout",
     "output_type": "stream",
     "text": [
      "Satır Sayısı:  12\n",
      "Dizi Boyutu:  1\n"
     ]
    }
   ],
   "source": [
    "print(\"Satır Sayısı: \",uni.size) #serinin satır sayısını gösterir.\n",
    "print(\"Dizi Boyutu: \", uni.ndim) # serinin kaç boyutlu diziden oluşturuğunu gösterir\n"
   ]
  },
  {
   "cell_type": "code",
   "execution_count": 21,
   "metadata": {},
   "outputs": [
    {
     "name": "stdout",
     "output_type": "stream",
     "text": [
      "0    6.170121\n",
      "1    7.590403\n",
      "2    7.012041\n",
      "dtype: float64\n",
      "9     8.685121\n",
      "10    6.448102\n",
      "11    9.735111\n",
      "dtype: float64\n"
     ]
    }
   ],
   "source": [
    "deger = pd.Series(uni)\n",
    "print(deger.head(3)) #padnas.Series > ilk  3 elemanı getirir > varsayılan 5 elemandır.\n",
    "print(deger.tail(3)) #sondaki belirtilen elemanları getirir.\n"
   ]
  },
  {
   "cell_type": "code",
   "execution_count": 25,
   "metadata": {},
   "outputs": [
    {
     "data": {
      "text/plain": [
       "1     6.170121\n",
       "2     7.590403\n",
       "3     7.012041\n",
       "4     6.390988\n",
       "5     5.209051\n",
       "6     5.581599\n",
       "7     8.683372\n",
       "8     6.195906\n",
       "9     5.304797\n",
       "10    8.685121\n",
       "11    6.448102\n",
       "12    9.735111\n",
       "dtype: float64"
      ]
     },
     "execution_count": 25,
     "metadata": {},
     "output_type": "execute_result"
    }
   ],
   "source": [
    "pd.Series(uni, index = [1,2,3,4,5,6,7,8,9,10,11,12])"
   ]
  },
  {
   "cell_type": "code",
   "execution_count": 30,
   "metadata": {},
   "outputs": [
    {
     "data": {
      "text/plain": [
       "pzrts   -1.582557\n",
       "salı    -0.135469\n",
       "çarş    -0.326693\n",
       "perş     1.270163\n",
       "cuma     0.295320\n",
       "dtype: float64"
      ]
     },
     "execution_count": 30,
     "metadata": {},
     "output_type": "execute_result"
    }
   ],
   "source": [
    "gunler = list()\n",
    "\n",
    "for i in range(5):\n",
    "    gun = input(\"gun adı: \")\n",
    "    gunler.append(gun)\n",
    "pd.Series(ondalikDizi, index = gunler)"
   ]
  },
  {
   "cell_type": "code",
   "execution_count": 1,
   "metadata": {},
   "outputs": [
    {
     "ename": "NameError",
     "evalue": "name 'ondalikDizi' is not defined",
     "output_type": "error",
     "traceback": [
      "\u001b[1;31m---------------------------------------------------------------------------\u001b[0m",
      "\u001b[1;31mNameError\u001b[0m                                 Traceback (most recent call last)",
      "\u001b[1;32m~\\AppData\\Local\\Temp\\ipykernel_7064\\67031837.py\u001b[0m in \u001b[0;36m<module>\u001b[1;34m\u001b[0m\n\u001b[1;32m----> 1\u001b[1;33m \u001b[0mdisplay\u001b[0m\u001b[1;33m(\u001b[0m\u001b[0mondalikDizi\u001b[0m\u001b[1;33m)\u001b[0m\u001b[1;33m\u001b[0m\u001b[1;33m\u001b[0m\u001b[0m\n\u001b[0m",
      "\u001b[1;31mNameError\u001b[0m: name 'ondalikDizi' is not defined"
     ]
    }
   ],
   "source": [
    "display(ondalikDizi)"
   ]
  },
  {
   "cell_type": "code",
   "execution_count": null,
   "metadata": {},
   "outputs": [],
   "source": []
  }
 ],
 "metadata": {
  "interpreter": {
   "hash": "ff46fe9d0f12cf77d984bd81bc068bbea5bf56aae7dfb72a8e6262aec9d0c3b1"
  },
  "kernelspec": {
   "display_name": "Python 3.10.6 64-bit",
   "language": "python",
   "name": "python3"
  },
  "language_info": {
   "codemirror_mode": {
    "name": "ipython",
    "version": 3
   },
   "file_extension": ".py",
   "mimetype": "text/x-python",
   "name": "python",
   "nbconvert_exporter": "python",
   "pygments_lexer": "ipython3",
   "version": "3.10.6"
  },
  "orig_nbformat": 4
 },
 "nbformat": 4,
 "nbformat_minor": 2
}
