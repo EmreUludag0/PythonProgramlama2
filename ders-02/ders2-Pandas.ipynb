{
 "cells": [
  {
   "cell_type": "code",
   "execution_count": 15,
   "metadata": {},
   "outputs": [],
   "source": [
    "import pandas as pd\n",
    "import numpy as np"
   ]
  },
  {
   "cell_type": "code",
   "execution_count": 16,
   "metadata": {},
   "outputs": [],
   "source": [
    "#Sozluk İçerisinde Liste Oluşturmak     "
   ]
  },
  {
   "cell_type": "code",
   "execution_count": 17,
   "metadata": {},
   "outputs": [],
   "source": [
    "Sozluk = {\n",
    "    \"adi\": \"Emre\",\n",
    "    \"soyadi\": \"Uludag\",\n",
    "    \"yas\":21,\n",
    "    \"egitim Durumu\": \"lisans\"  \n",
    "}"
   ]
  },
  {
   "cell_type": "code",
   "execution_count": 21,
   "metadata": {},
   "outputs": [
    {
     "data": {
      "text/plain": [
       "adi                Emre\n",
       "soyadi           Uludag\n",
       "yas                  21\n",
       "egitim Durumu    lisans\n",
       "dtype: object"
      ]
     },
     "execution_count": 21,
     "metadata": {},
     "output_type": "execute_result"
    }
   ],
   "source": [
    "SozlukYapi = pd.Series(Sozluk)\n",
    "SozlukYapi"
   ]
  },
  {
   "cell_type": "code",
   "execution_count": 29,
   "metadata": {},
   "outputs": [
    {
     "data": {
      "text/plain": [
       "adi         emre\n",
       "soyadi    uludag\n",
       "dtype: object"
      ]
     },
     "execution_count": 29,
     "metadata": {},
     "output_type": "execute_result"
    }
   ],
   "source": [
    "Sozluk2 = {}\n",
    "adi = input(\"adi giriniz: \")\n",
    "soyadi = input(\"soyadi giriniz: \")\n",
    "\n",
    "Sozluk2.update({\n",
    "    \"adi\": adi,\n",
    "    \"soyadi\" : soyadi \n",
    "})\n",
    "\n",
    "SozlukYapı2 = pd.Series(Sozluk2)\n",
    "SozlukYapı2"
   ]
  },
  {
   "cell_type": "code",
   "execution_count": 39,
   "metadata": {},
   "outputs": [
    {
     "data": {
      "text/plain": [
       "1    20\n",
       "2    30\n",
       "dtype: int32"
      ]
     },
     "execution_count": 39,
     "metadata": {},
     "output_type": "execute_result"
    }
   ],
   "source": [
    "dizi = np.array([10,20,30,40,50])\n",
    "dizi2 = pd.Series(dizi,index=[\"a\",\"b\",\"c\",\"d\",\"e\"])\n",
    "dizi3 = pd.Series(dizi)\n",
    "dizi3[1:3]\n",
    "# dizi3[1:3].astype(np.int64) ////// tipi 64'e ayarlar.\n"
   ]
  },
  {
   "cell_type": "markdown",
   "metadata": {},
   "source": [
    "# hata çıktı"
   ]
  },
  {
   "cell_type": "code",
   "execution_count": 56,
   "metadata": {},
   "outputs": [
    {
     "name": "stdout",
     "output_type": "stream",
     "text": [
      "Index(['adi', 'soyadi'], dtype='object')\n",
      "['emre' 'uludag']\n",
      "[('adi', 'emre'), ('soyadi', 'uludag')]\n"
     ]
    }
   ],
   "source": [
    "seri = pd.Series(Sozluk2)\n",
    "print(seri.keys())\n",
    "print(seri.values) # len(seri.values) > serinin uzunluğunu gösterir.\n",
    "print(list(seri.items()))"
   ]
  },
  {
   "cell_type": "code",
   "execution_count": null,
   "metadata": {},
   "outputs": [],
   "source": []
  }
 ],
 "metadata": {
  "interpreter": {
   "hash": "ff46fe9d0f12cf77d984bd81bc068bbea5bf56aae7dfb72a8e6262aec9d0c3b1"
  },
  "kernelspec": {
   "display_name": "Python 3.10.6 64-bit",
   "language": "python",
   "name": "python3"
  },
  "language_info": {
   "codemirror_mode": {
    "name": "ipython",
    "version": 3
   },
   "file_extension": ".py",
   "mimetype": "text/x-python",
   "name": "python",
   "nbconvert_exporter": "python",
   "pygments_lexer": "ipython3",
   "version": "3.10.6"
  },
  "orig_nbformat": 4
 },
 "nbformat": 4,
 "nbformat_minor": 2
}
