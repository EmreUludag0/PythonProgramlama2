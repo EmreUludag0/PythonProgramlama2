{
 "cells": [
  {
   "cell_type": "code",
   "execution_count": 51,
   "metadata": {},
   "outputs": [
    {
     "data": {
      "text/plain": [
       "array([[ 5,  6,  7],\n",
       "       [ 0,  1,  2],\n",
       "       [10, 11, 12]])"
      ]
     },
     "execution_count": 51,
     "metadata": {},
     "output_type": "execute_result"
    }
   ],
   "source": [
    "import numpy as np\n",
    "myList = [\"emre\"]\n",
    "myList = np.array([[5,6,7],[0,1,2],[10,11,12]]) #\n",
    "myList "
   ]
  },
  {
   "cell_type": "code",
   "execution_count": 52,
   "metadata": {},
   "outputs": [
    {
     "data": {
      "text/plain": [
       "array([['emre', 'eren'],\n",
       "       ['arda', 'c'],\n",
       "       ['a', 'b']], dtype='<U4')"
      ]
     },
     "execution_count": 52,
     "metadata": {},
     "output_type": "execute_result"
    }
   ],
   "source": [
    "myList2 = []\n",
    "myList2 = np.array([[\"emre\",\"eren\"],[\"arda\",\"c\"],[\"a\",\"b\"]])\n",
    "myList2"
   ]
  },
  {
   "cell_type": "code",
   "execution_count": 53,
   "metadata": {},
   "outputs": [
    {
     "data": {
      "text/plain": [
       "[0, 2, 4, 6, 8, 10, 12, 14, 16, 18]"
      ]
     },
     "execution_count": 53,
     "metadata": {},
     "output_type": "execute_result"
    }
   ],
   "source": [
    "myList = list(range(0,20,2))\n",
    "myList"
   ]
  },
  {
   "cell_type": "code",
   "execution_count": 54,
   "metadata": {},
   "outputs": [
    {
     "data": {
      "text/plain": [
       "array([ 0,  2,  4,  6,  8, 10, 12, 14, 16, 18])"
      ]
     },
     "execution_count": 54,
     "metadata": {},
     "output_type": "execute_result"
    }
   ],
   "source": [
    "mylist2 = np.arange(0,20,2)\n",
    "mylist2"
   ]
  },
  {
   "cell_type": "code",
   "execution_count": 55,
   "metadata": {},
   "outputs": [
    {
     "data": {
      "text/plain": [
       "array([[0., 0., 0., 0., 0., 0., 0., 0.],\n",
       "       [0., 0., 0., 0., 0., 0., 0., 0.],\n",
       "       [0., 0., 0., 0., 0., 0., 0., 0.],\n",
       "       [0., 0., 0., 0., 0., 0., 0., 0.]])"
      ]
     },
     "execution_count": 55,
     "metadata": {},
     "output_type": "execute_result"
    }
   ],
   "source": [
    "sifirDizisi = np.zeros((4,8))\n",
    "sifirDizisi"
   ]
  },
  {
   "cell_type": "code",
   "execution_count": 56,
   "metadata": {},
   "outputs": [
    {
     "data": {
      "text/plain": [
       "array([[1., 1., 1.],\n",
       "       [1., 1., 1.],\n",
       "       [1., 1., 1.]])"
      ]
     },
     "execution_count": 56,
     "metadata": {},
     "output_type": "execute_result"
    }
   ],
   "source": [
    "birlerDizisi = np.ones((3,3))\n",
    "birlerDizisi"
   ]
  },
  {
   "cell_type": "code",
   "execution_count": 57,
   "metadata": {},
   "outputs": [
    {
     "data": {
      "text/plain": [
       "array([ 0.        ,  0.52631579,  1.05263158,  1.57894737,  2.10526316,\n",
       "        2.63157895,  3.15789474,  3.68421053,  4.21052632,  4.73684211,\n",
       "        5.26315789,  5.78947368,  6.31578947,  6.84210526,  7.36842105,\n",
       "        7.89473684,  8.42105263,  8.94736842,  9.47368421, 10.        ])"
      ]
     },
     "execution_count": 57,
     "metadata": {},
     "output_type": "execute_result"
    }
   ],
   "source": [
    "aralikDizi = np.linspace(0,10,20)\n",
    "aralikDizi"
   ]
  },
  {
   "cell_type": "code",
   "execution_count": 58,
   "metadata": {},
   "outputs": [
    {
     "data": {
      "text/plain": [
       "array([-0.59395325,  0.78549521,  0.63883171,  1.49215545,  0.77494804,\n",
       "        0.71532456, -1.33853706, -0.26756045, -1.12338957, -1.79854522])"
      ]
     },
     "execution_count": 58,
     "metadata": {},
     "output_type": "execute_result"
    }
   ],
   "source": [
    "rastgeleDizi = np.random.randn(10)\n",
    "rastgeleDizi"
   ]
  },
  {
   "cell_type": "code",
   "execution_count": 59,
   "metadata": {},
   "outputs": [
    {
     "data": {
      "text/plain": [
       "array([[[ 0.82821953,  0.1359136 , -0.51171375,  0.87642929],\n",
       "        [ 0.076555  , -0.8790959 ,  1.17191862,  0.09814158]],\n",
       "\n",
       "       [[ 0.74967019, -0.99319911,  0.12404828, -0.16716203],\n",
       "        [-1.81469681,  0.34457973, -0.99429841,  0.35041215]],\n",
       "\n",
       "       [[-1.34845559,  0.39574073, -0.45843404, -0.62628552],\n",
       "        [ 0.4918568 ,  1.90818604,  0.68243635,  0.56005862]],\n",
       "\n",
       "       [[-0.70561779, -0.17373523,  0.23660221, -0.13444236],\n",
       "        [-1.80689372,  1.43658252, -0.48215579, -0.0971018 ]],\n",
       "\n",
       "       [[-0.20981466,  0.33767465, -0.68042515, -0.95149363],\n",
       "        [-1.02887735,  1.9853474 ,  0.12892239,  2.22632026]],\n",
       "\n",
       "       [[ 1.07914485, -0.02823938, -0.75231829, -1.46414587],\n",
       "        [ 0.71156878,  0.49823954, -0.69094514,  0.58231855]],\n",
       "\n",
       "       [[ 0.73979458, -0.60519649, -0.73886292,  0.53601421],\n",
       "        [ 0.15558598,  1.01748012,  0.40484501, -0.76150557]]])"
      ]
     },
     "execution_count": 59,
     "metadata": {},
     "output_type": "execute_result"
    }
   ],
   "source": [
    "rastgeleDizi = np.random.randn(7,2,4)\n",
    "rastgeleDizi"
   ]
  },
  {
   "cell_type": "code",
   "execution_count": 60,
   "metadata": {},
   "outputs": [
    {
     "data": {
      "text/plain": [
       "array([[18, 12]])"
      ]
     },
     "execution_count": 60,
     "metadata": {},
     "output_type": "execute_result"
    }
   ],
   "source": [
    "#np.random.randint(baslangıc,bitis,artış) veya\n",
    "#np.random.randint(baslangıc,bitis,matrisDegeri)\n",
    "\n",
    "rastgeleTamSayi = np.random.randint(10,20,(1,2))\n",
    "rastgeleTamSayi"
   ]
  }
 ],
 "metadata": {
  "interpreter": {
   "hash": "ff46fe9d0f12cf77d984bd81bc068bbea5bf56aae7dfb72a8e6262aec9d0c3b1"
  },
  "kernelspec": {
   "display_name": "Python 3.10.6 64-bit",
   "language": "python",
   "name": "python3"
  },
  "language_info": {
   "codemirror_mode": {
    "name": "ipython",
    "version": 3
   },
   "file_extension": ".py",
   "mimetype": "text/x-python",
   "name": "python",
   "nbconvert_exporter": "python",
   "pygments_lexer": "ipython3",
   "version": "3.10.6"
  },
  "orig_nbformat": 4
 },
 "nbformat": 4,
 "nbformat_minor": 2
}
