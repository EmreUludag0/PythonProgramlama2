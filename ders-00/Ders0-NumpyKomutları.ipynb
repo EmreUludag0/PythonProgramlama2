{
 "cells": [
  {
   "cell_type": "code",
   "execution_count": 1,
   "id": "12637638",
   "metadata": {},
   "outputs": [],
   "source": [
    "import numpy as np\n"
   ]
  },
  {
   "cell_type": "code",
   "execution_count": 2,
   "id": "3d80e5cb",
   "metadata": {},
   "outputs": [
    {
     "data": {
      "text/plain": [
       "[0, 2, 4, 6, 8, 10, 12, 14, 16, 18]"
      ]
     },
     "execution_count": 2,
     "metadata": {},
     "output_type": "execute_result"
    }
   ],
   "source": [
    "myList = list(range(0,20,2))\n",
    "myList"
   ]
  },
  {
   "cell_type": "code",
   "execution_count": 3,
   "id": "76de2189",
   "metadata": {},
   "outputs": [
    {
     "data": {
      "text/plain": [
       "array([ 0,  2,  4,  6,  8, 10, 12, 14, 16, 18])"
      ]
     },
     "execution_count": 3,
     "metadata": {},
     "output_type": "execute_result"
    }
   ],
   "source": [
    "mylist2 = np.arange(0,20,2)\n",
    "mylist2"
   ]
  },
  {
   "cell_type": "code",
   "execution_count": 7,
   "id": "1ce435e2",
   "metadata": {},
   "outputs": [
    {
     "data": {
      "text/plain": [
       "array([[0., 0., 0., 0., 0., 0., 0., 0.],\n",
       "       [0., 0., 0., 0., 0., 0., 0., 0.],\n",
       "       [0., 0., 0., 0., 0., 0., 0., 0.],\n",
       "       [0., 0., 0., 0., 0., 0., 0., 0.]])"
      ]
     },
     "execution_count": 7,
     "metadata": {},
     "output_type": "execute_result"
    }
   ],
   "source": [
    "sifirDizisi = np.zeros((4,8))\n",
    "sifirDizisi"
   ]
  },
  {
   "cell_type": "code",
   "execution_count": 11,
   "id": "f275d368",
   "metadata": {},
   "outputs": [
    {
     "data": {
      "text/plain": [
       "array([[1., 1., 1.],\n",
       "       [1., 1., 1.],\n",
       "       [1., 1., 1.]])"
      ]
     },
     "execution_count": 11,
     "metadata": {},
     "output_type": "execute_result"
    }
   ],
   "source": [
    "birlerDizisi = np.ones((3,3))\n",
    "birlerDizisi"
   ]
  },
  {
   "cell_type": "markdown",
   "id": "b2b0ee90",
   "metadata": {},
   "source": [
    "# aralık belirtme işlemi linspace"
   ]
  },
  {
   "cell_type": "code",
   "execution_count": 15,
   "id": "27e27a17",
   "metadata": {},
   "outputs": [
    {
     "data": {
      "text/plain": [
       "array([ 0.        ,  0.52631579,  1.05263158,  1.57894737,  2.10526316,\n",
       "        2.63157895,  3.15789474,  3.68421053,  4.21052632,  4.73684211,\n",
       "        5.26315789,  5.78947368,  6.31578947,  6.84210526,  7.36842105,\n",
       "        7.89473684,  8.42105263,  8.94736842,  9.47368421, 10.        ])"
      ]
     },
     "execution_count": 15,
     "metadata": {},
     "output_type": "execute_result"
    }
   ],
   "source": [
    "aralikDizi = np.linspace(0,10,20)\n",
    "aralikDizi"
   ]
  },
  {
   "cell_type": "markdown",
   "id": "d3c1b1e7",
   "metadata": {},
   "source": [
    "# Rastgele ondalıklı Sayı Dizisi"
   ]
  },
  {
   "cell_type": "code",
   "execution_count": 17,
   "id": "0cb9fce7",
   "metadata": {},
   "outputs": [
    {
     "data": {
      "text/plain": [
       "array([ 0.67973322,  2.60199687,  1.12792097,  1.14658979,  0.02389618,\n",
       "        1.53021618,  1.12629142,  0.36642122,  0.11533083, -0.73980067])"
      ]
     },
     "execution_count": 17,
     "metadata": {},
     "output_type": "execute_result"
    }
   ],
   "source": [
    "rastgeleDizi = np.random.randn(10)\n",
    "rastgeleDizi"
   ]
  },
  {
   "cell_type": "code",
   "execution_count": 21,
   "id": "5752377d",
   "metadata": {},
   "outputs": [
    {
     "data": {
      "text/plain": [
       "array([[[-0.68086857, -0.2340267 ,  1.75217652,  0.28542258],\n",
       "        [-1.74635866,  0.5118604 , -1.60079964, -0.40335564]],\n",
       "\n",
       "       [[-0.49626928, -0.29589076, -0.31905263, -1.51968862],\n",
       "        [-0.09678812,  0.27839954, -0.5805992 ,  0.25990338]],\n",
       "\n",
       "       [[-1.62107284,  0.24257451,  1.0637659 ,  0.70074437],\n",
       "        [ 1.9569    , -0.969991  ,  2.01038482,  1.35471949]],\n",
       "\n",
       "       [[ 0.80359805,  0.19160938,  0.73992997, -0.50391961],\n",
       "        [-0.7797235 ,  0.57947697,  1.15533617, -0.71747278]],\n",
       "\n",
       "       [[ 0.30041406,  0.45747143, -0.45575225,  0.87645455],\n",
       "        [-0.52832115, -0.44521327, -1.86787224,  2.12939307]],\n",
       "\n",
       "       [[-0.96913462,  0.21599742, -0.06804455, -0.02595219],\n",
       "        [-0.12825015, -0.34848959, -1.6436583 , -0.15724667]],\n",
       "\n",
       "       [[-0.64720777, -0.94391564,  1.1505336 , -0.4673824 ],\n",
       "        [-1.57283714, -1.42641321,  1.36932515,  0.14419086]]])"
      ]
     },
     "execution_count": 21,
     "metadata": {},
     "output_type": "execute_result"
    }
   ],
   "source": [
    "rastgeleDizi = np.random.randn(7,2,4)\n",
    "rastgeleDizi"
   ]
  },
  {
   "cell_type": "markdown",
   "id": "61ac08a8",
   "metadata": {},
   "source": [
    "# Rastgele ondalıklı Sayı Dizisi"
   ]
  },
  {
   "cell_type": "code",
   "execution_count": 33,
   "id": "4a806784",
   "metadata": {},
   "outputs": [
    {
     "data": {
      "text/plain": [
       "array([[17, 10]])"
      ]
     },
     "execution_count": 33,
     "metadata": {},
     "output_type": "execute_result"
    }
   ],
   "source": [
    "#np.random.randint(baslangıc,bitis,artış) veya\n",
    "#np.random.randint(baslangıc,bitis,matrisDegeri)\n",
    "\n",
    "rastgeleTamSayi = np.random.randint(10,20,(1,2))\n",
    "rastgeleTamSayi"
   ]
  },
  {
   "cell_type": "markdown",
   "id": "95b262e8",
   "metadata": {},
   "source": [
    "# belirttiğiniz Değer ile Diziyi oluşturma"
   ]
  },
  {
   "cell_type": "code",
   "execution_count": 39,
   "id": "da68b0c2",
   "metadata": {},
   "outputs": [
    {
     "data": {
      "text/plain": [
       "array([[53.83, 53.83, 53.83, 53.83],\n",
       "       [53.83, 53.83, 53.83, 53.83],\n",
       "       [53.83, 53.83, 53.83, 53.83],\n",
       "       [53.83, 53.83, 53.83, 53.83]])"
      ]
     },
     "execution_count": 39,
     "metadata": {},
     "output_type": "execute_result"
    }
   ],
   "source": [
    "dizi = np.full(((4,4)), round(53.83472,2), dtype = \"float\")\n",
    "dizi"
   ]
  },
  {
   "cell_type": "markdown",
   "id": "231b788a",
   "metadata": {},
   "source": [
    "# Reshape Kullanımı"
   ]
  },
  {
   "cell_type": "code",
   "execution_count": 47,
   "id": "28832346",
   "metadata": {},
   "outputs": [
    {
     "data": {
      "text/plain": [
       "array([[14, 18],\n",
       "       [11, 18]])"
      ]
     },
     "execution_count": 47,
     "metadata": {},
     "output_type": "execute_result"
    }
   ],
   "source": [
    "dizi = np.random.randint(10,20,(2,2))\n",
    "dizi.reshape(2,2)\n"
   ]
  },
  {
   "cell_type": "code",
   "execution_count": 49,
   "id": "411a7dd6",
   "metadata": {},
   "outputs": [
    {
     "name": "stdout",
     "output_type": "stream",
     "text": [
      "en büyük:  18\n",
      "en küçük:  11\n",
      "büyük indis no:  1\n",
      "küçük indis no:  2\n"
     ]
    }
   ],
   "source": [
    "print(\"en büyük: \", dizi.max())\n",
    "print(\"en küçük: \", dizi.min())\n",
    "print(\"büyük indis no: \", dizi.argmax())\n",
    "print(\"küçük indis no: \", dizi.argmin())\n"
   ]
  },
  {
   "cell_type": "code",
   "execution_count": null,
   "id": "51e32654",
   "metadata": {},
   "outputs": [],
   "source": []
  }
 ],
 "metadata": {
  "kernelspec": {
   "display_name": "Python 3 (ipykernel)",
   "language": "python",
   "name": "python3"
  },
  "language_info": {
   "codemirror_mode": {
    "name": "ipython",
    "version": 3
   },
   "file_extension": ".py",
   "mimetype": "text/x-python",
   "name": "python",
   "nbconvert_exporter": "python",
   "pygments_lexer": "ipython3",
   "version": "3.11.5"
  }
 },
 "nbformat": 4,
 "nbformat_minor": 5
}
