{
 "cells": [
  {
   "cell_type": "code",
   "execution_count": 8,
   "metadata": {},
   "outputs": [],
   "source": [
    "import cv2"
   ]
  },
  {
   "cell_type": "code",
   "execution_count": 9,
   "metadata": {},
   "outputs": [],
   "source": [
    "try:\n",
    "    en = int(input(\"en: \"))\n",
    "    boy = int(input(\"boy: \"))\n",
    "except:\n",
    "    print(\"hata\")"
   ]
  },
  {
   "cell_type": "code",
   "execution_count": 14,
   "metadata": {},
   "outputs": [],
   "source": [
    "img = cv2.imread(\"./img2.jpeg\")\n",
    "color = (0,0,255)\n",
    "\n",
    "#imgGri = cv2.cvtColor(img, cv2.COLOR_BGR2GRAY)\n",
    "yeniDeger = cv2.resize(img, (en,boy))\n",
    "en2 = en * 0.10 #sayfa genişliği arttıkça çizgi konumu da değişsin\n",
    "#cv2.resize(img, (en, boy))\n",
    "cv2.line(yeniDeger, (100,0),(100,boy), color, 2) \n",
    "cv2.imshow(\"cizim islemi\", yeniDeger)\n",
    "\n",
    "\n",
    "\n",
    "if(cv2.waitKey(0) == 32):\n",
    "    cv2.destroyAllWindows()"
   ]
  },
  {
   "cell_type": "code",
   "execution_count": null,
   "metadata": {},
   "outputs": [],
   "source": []
  }
 ],
 "metadata": {
  "kernelspec": {
   "display_name": "Python 3",
   "language": "python",
   "name": "python3"
  },
  "language_info": {
   "codemirror_mode": {
    "name": "ipython",
    "version": 3
   },
   "file_extension": ".py",
   "mimetype": "text/x-python",
   "name": "python",
   "nbconvert_exporter": "python",
   "pygments_lexer": "ipython3",
   "version": "3.10.7"
  }
 },
 "nbformat": 4,
 "nbformat_minor": 2
}
