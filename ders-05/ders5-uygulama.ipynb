{
 "cells": [
  {
   "cell_type": "code",
   "execution_count": 5,
   "metadata": {},
   "outputs": [],
   "source": [
    "import cv2"
   ]
  },
  {
   "cell_type": "code",
   "execution_count": 1,
   "metadata": {},
   "outputs": [
    {
     "ename": "NameError",
     "evalue": "name 'cv2' is not defined",
     "output_type": "error",
     "traceback": [
      "\u001b[1;31m---------------------------------------------------------------------------\u001b[0m",
      "\u001b[1;31mNameError\u001b[0m                                 Traceback (most recent call last)",
      "\u001b[1;32mc:\\Users\\emreu\\Desktop\\Python2-emreUludag\\ders-05\\ders5-uygulama.ipynb Cell 2\u001b[0m line \u001b[0;36m3\n\u001b[0;32m      <a href='vscode-notebook-cell:/c%3A/Users/emreu/Desktop/Python2-emreUludag/ders-05/ders5-uygulama.ipynb#W1sZmlsZQ%3D%3D?line=0'>1</a>\u001b[0m en \u001b[39m=\u001b[39m \u001b[39mint\u001b[39m(\u001b[39minput\u001b[39m(\u001b[39m\"\u001b[39m\u001b[39men gir: \u001b[39m\u001b[39m\"\u001b[39m))\n\u001b[0;32m      <a href='vscode-notebook-cell:/c%3A/Users/emreu/Desktop/Python2-emreUludag/ders-05/ders5-uygulama.ipynb#W1sZmlsZQ%3D%3D?line=1'>2</a>\u001b[0m boy \u001b[39m=\u001b[39m \u001b[39mint\u001b[39m(\u001b[39minput\u001b[39m(\u001b[39m\"\u001b[39m\u001b[39mboy gir: \u001b[39m\u001b[39m\"\u001b[39m))\n\u001b[1;32m----> <a href='vscode-notebook-cell:/c%3A/Users/emreu/Desktop/Python2-emreUludag/ders-05/ders5-uygulama.ipynb#W1sZmlsZQ%3D%3D?line=2'>3</a>\u001b[0m img1 \u001b[39m=\u001b[39m cv2\u001b[39m.\u001b[39mimread(\u001b[39m\"\u001b[39m\u001b[39m./img1.jpg\u001b[39m\u001b[39m\"\u001b[39m)\n\u001b[0;32m      <a href='vscode-notebook-cell:/c%3A/Users/emreu/Desktop/Python2-emreUludag/ders-05/ders5-uygulama.ipynb#W1sZmlsZQ%3D%3D?line=3'>4</a>\u001b[0m img2 \u001b[39m=\u001b[39m cv2\u001b[39m.\u001b[39mimread(\u001b[39m\"\u001b[39m\u001b[39mimg2.jpeg\u001b[39m\u001b[39m\"\u001b[39m)\n\u001b[0;32m      <a href='vscode-notebook-cell:/c%3A/Users/emreu/Desktop/Python2-emreUludag/ders-05/ders5-uygulama.ipynb#W1sZmlsZQ%3D%3D?line=5'>6</a>\u001b[0m siyahBeyaz \u001b[39m=\u001b[39m cv2\u001b[39m.\u001b[39mcvtColor(img2, cv2\u001b[39m.\u001b[39mCOLOR_BGR2GRAY) \u001b[39m#görseli renklendirir\u001b[39;00m\n",
      "\u001b[1;31mNameError\u001b[0m: name 'cv2' is not defined"
     ]
    }
   ],
   "source": [
    "en = int(input(\"en gir: \"))\n",
    "boy = int(input(\"boy gir: \"))\n",
    "img1 = cv2.imread(\"./img1.jpg\")\n",
    "img2 = cv2.imread(\"img2.jpeg\")\n",
    "\n",
    "siyahBeyaz = cv2.cvtColor(img2, cv2.COLOR_BGR2GRAY) #görseli renklendirir\n",
    "\n",
    "boyutlandirma = cv2.resize(img1,(en,boy))\n",
    "\n",
    "cv2.imshow(\"f1 \", img1)\n",
    "cv2.imshow(\"f2\", img2)\n",
    "cv2.imshow(\"yeni Boyut\", boyutlandirma)\n",
    "cv2.imshow(\"siyah beyaz\", siyahBeyaz)\n",
    "\n",
    "\n",
    "if(cv2.waitKey(500) == 32):\n",
    "    cv2.destroyAllWindows()\n",
    "\n",
    "print(img2)\n",
    "print(siyahBeyaz)\n"
   ]
  },
  {
   "cell_type": "code",
   "execution_count": null,
   "metadata": {},
   "outputs": [
    {
     "ename": "",
     "evalue": "",
     "output_type": "error",
     "traceback": [
      "\u001b[1;31mThe Kernel crashed while executing code in the the current cell or a previous cell. Please review the code in the cell(s) to identify a possible cause of the failure. Click <a href='https://aka.ms/vscodeJupyterKernelCrash'>here</a> for more info. View Jupyter <a href='command:jupyter.viewOutput'>log</a> for further details."
     ]
    }
   ],
   "source": []
  },
  {
   "cell_type": "code",
   "execution_count": null,
   "metadata": {},
   "outputs": [],
   "source": []
  }
 ],
 "metadata": {
  "kernelspec": {
   "display_name": "Python 3",
   "language": "python",
   "name": "python3"
  },
  "language_info": {
   "codemirror_mode": {
    "name": "ipython",
    "version": 3
   },
   "file_extension": ".py",
   "mimetype": "text/x-python",
   "name": "python",
   "nbconvert_exporter": "python",
   "pygments_lexer": "ipython3",
   "version": "3.10.7"
  }
 },
 "nbformat": 4,
 "nbformat_minor": 2
}
