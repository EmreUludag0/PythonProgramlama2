{
 "cells": [
  {
   "cell_type": "code",
   "execution_count": 1,
   "metadata": {},
   "outputs": [],
   "source": [
    "import cv2"
   ]
  },
  {
   "cell_type": "code",
   "execution_count": 3,
   "metadata": {},
   "outputs": [],
   "source": [
    "img1 = cv2.imread(\"./img1.jpg\") # görseli okur\n",
    "img2 = cv2.imread(\"./img2.jpg\") \n",
    "cv2.imshow(\"gorsel basligi\",img1)\n",
    "cv2.imshow(\"gorsel basligi\",img2) #ekranda gösterir\n",
    "if(cv2.waitKey(0) == 32): # 32 assci bosluk tuşudur\n",
    "    cv2.destroyAllWindows() # ekranları kapatır"
   ]
  },
  {
   "cell_type": "code",
   "execution_count": 6,
   "metadata": {},
   "outputs": [
    {
     "data": {
      "text/plain": [
       "array([[[183, 208, 218],\n",
       "        [180, 205, 215],\n",
       "        [184, 209, 219],\n",
       "        ...,\n",
       "        [116, 142, 156],\n",
       "        [108, 134, 148],\n",
       "        [101, 127, 141]],\n",
       "\n",
       "       [[ 37,  59,  70],\n",
       "        [ 34,  59,  69],\n",
       "        [ 44,  66,  77],\n",
       "        ...,\n",
       "        [ 95, 121, 135],\n",
       "        [ 92, 118, 132],\n",
       "        [ 89, 115, 129]],\n",
       "\n",
       "       [[  0,   8,  16],\n",
       "        [  0,   7,  15],\n",
       "        [  0,  17,  25],\n",
       "        ...,\n",
       "        [119, 145, 159],\n",
       "        [121, 147, 161],\n",
       "        [121, 147, 161]],\n",
       "\n",
       "       ...,\n",
       "\n",
       "       [[230, 249, 252],\n",
       "        [230, 249, 252],\n",
       "        [230, 249, 252],\n",
       "        ...,\n",
       "        [113, 129, 136],\n",
       "        [113, 129, 136],\n",
       "        [113, 129, 136]],\n",
       "\n",
       "       [[230, 249, 252],\n",
       "        [230, 249, 252],\n",
       "        [230, 249, 252],\n",
       "        ...,\n",
       "        [114, 130, 137],\n",
       "        [113, 129, 136],\n",
       "        [113, 129, 136]],\n",
       "\n",
       "       [[230, 249, 252],\n",
       "        [230, 249, 252],\n",
       "        [230, 249, 252],\n",
       "        ...,\n",
       "        [114, 130, 137],\n",
       "        [114, 130, 137],\n",
       "        [114, 130, 137]]], dtype=uint8)"
      ]
     },
     "execution_count": 6,
     "metadata": {},
     "output_type": "execute_result"
    }
   ],
   "source": []
  },
  {
   "cell_type": "code",
   "execution_count": null,
   "metadata": {},
   "outputs": [],
   "source": []
  }
 ],
 "metadata": {
  "kernelspec": {
   "display_name": "Python 3",
   "language": "python",
   "name": "python3"
  },
  "language_info": {
   "codemirror_mode": {
    "name": "ipython",
    "version": 3
   },
   "file_extension": ".py",
   "mimetype": "text/x-python",
   "name": "python",
   "nbconvert_exporter": "python",
   "pygments_lexer": "ipython3",
   "version": "3.10.7"
  }
 },
 "nbformat": 4,
 "nbformat_minor": 2
}
